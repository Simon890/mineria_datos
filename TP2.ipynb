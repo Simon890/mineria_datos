{
  "nbformat": 4,
  "nbformat_minor": 0,
  "metadata": {
    "colab": {
      "provenance": [],
      "collapsed_sections": [
        "_Ya7GSIqDpMH",
        "DJUYVd5OCzK0",
        "mDDRFqJID4Xw",
        "ZS4aVUz0D7rx",
        "lrxhzzppEO0G",
        "6wbd62CiEUi-",
        "6PMvmYOcEXg-",
        "llrUyk8nEnhe",
        "7idEe9TbEsG7",
        "sD3SfP5ME0Ab",
        "QZfuoldaE0Ac",
        "Kji2JhkQE0Ac",
        "NxtrgdTNE_91",
        "NOWqtxlpE_92",
        "hXD1tqIuE_93",
        "bslbQA8IFITs",
        "D_f2n8ZvFITt",
        "yS_-W2caFIT5",
        "Yi8pq-XuFeGg",
        "8jcEae2vFeGp",
        "q8h3o30-FeGq",
        "j6NkAE8RFnd1",
        "XegktToAFnd9",
        "BqThWSyHFnd9",
        "s8tt71MIF4r5"
      ]
    },
    "kernelspec": {
      "name": "python3",
      "display_name": "Python 3"
    },
    "language_info": {
      "name": "python"
    }
  },
  "cells": [
    {
      "cell_type": "markdown",
      "source": [
        "# ***Presentacion***"
      ],
      "metadata": {
        "id": "_Ya7GSIqDpMH"
      }
    },
    {
      "cell_type": "markdown",
      "source": [
        "## **Tecnicatura Universitaria en Inteligencia Artificial**\n",
        "\n",
        "### Trabájo Práctico - Minería de Datos\n",
        "\n",
        "#### Arboles de descicion y aprendizaje supervizado\n",
        "\n",
        "---\n",
        "\n",
        "**equipo**:\n",
        "- Revello Simon\n",
        "- Giampaoli Fabio\n",
        "\n",
        "**Fecha**: 10/11/2023\n",
        "\n",
        "---"
      ],
      "metadata": {
        "id": "LjYL7i6cCpFS"
      }
    },
    {
      "cell_type": "markdown",
      "source": [
        "## ***Objetivo***\n"
      ],
      "metadata": {
        "id": "DJUYVd5OCzK0"
      }
    },
    {
      "cell_type": "markdown",
      "source": [
        "\n",
        "El objetivo de este trabajo practico es integrar los conocimientos adquiridos en las unidades 4 y 5\n",
        "en dos problemas reales asociados uno al comportamiento financiero de 1000 empresas y otro a\n",
        "un juego de cartas,"
      ],
      "metadata": {
        "id": "5-vH94o-Dnke"
      }
    },
    {
      "cell_type": "markdown",
      "source": [
        "# ***Entorno***"
      ],
      "metadata": {
        "id": "mDDRFqJID4Xw"
      }
    },
    {
      "cell_type": "markdown",
      "source": [
        "## Librerias"
      ],
      "metadata": {
        "id": "ZS4aVUz0D7rx"
      }
    },
    {
      "cell_type": "markdown",
      "source": [],
      "metadata": {
        "id": "YcczeCEgENkG"
      }
    },
    {
      "cell_type": "code",
      "source": [],
      "metadata": {
        "id": "3_spuKR3D6_H"
      },
      "execution_count": null,
      "outputs": []
    },
    {
      "cell_type": "markdown",
      "source": [
        "## Datasets"
      ],
      "metadata": {
        "id": "lrxhzzppEO0G"
      }
    },
    {
      "cell_type": "markdown",
      "source": [],
      "metadata": {
        "id": "3dOgKKHmEQ7l"
      }
    },
    {
      "cell_type": "code",
      "execution_count": null,
      "metadata": {
        "id": "LWnpAahI-eet"
      },
      "outputs": [],
      "source": []
    },
    {
      "cell_type": "markdown",
      "source": [
        "# ***Ejercicios***"
      ],
      "metadata": {
        "id": "6wbd62CiEUi-"
      }
    },
    {
      "cell_type": "markdown",
      "source": [
        "## **Primer ejercicio**"
      ],
      "metadata": {
        "id": "6PMvmYOcEXg-"
      }
    },
    {
      "cell_type": "markdown",
      "source": [
        "---\n",
        "\n",
        "Descargar el conjunto de datos, 1000_Companies.csv1, para realizar el trabajo práctico.\n",
        "Analizar los atributos del conjunto de datos (distribuciones, valores, outliers, tipos de\n",
        "datos, etc.) y elegir un método de estandarización\n",
        "\n",
        "---"
      ],
      "metadata": {
        "id": "UrDl2k01EdOV"
      }
    },
    {
      "cell_type": "markdown",
      "source": [
        "### Section"
      ],
      "metadata": {
        "id": "llrUyk8nEnhe"
      }
    },
    {
      "cell_type": "markdown",
      "source": [],
      "metadata": {
        "id": "7J0VEHaTErAe"
      }
    },
    {
      "cell_type": "code",
      "source": [],
      "metadata": {
        "id": "x190K7fNErgR"
      },
      "execution_count": null,
      "outputs": []
    },
    {
      "cell_type": "markdown",
      "source": [
        "### Section"
      ],
      "metadata": {
        "id": "7idEe9TbEsG7"
      }
    },
    {
      "cell_type": "markdown",
      "source": [],
      "metadata": {
        "id": "LwWKn2HWEvJL"
      }
    },
    {
      "cell_type": "code",
      "source": [],
      "metadata": {
        "id": "zVuZNDolEvmJ"
      },
      "execution_count": null,
      "outputs": []
    },
    {
      "cell_type": "markdown",
      "source": [
        "## **Segundo ejercicio**"
      ],
      "metadata": {
        "id": "sD3SfP5ME0Ab"
      }
    },
    {
      "cell_type": "markdown",
      "source": [
        "---\n",
        "\n",
        "Realizar la estimación del atributo Profit utilizando árboles de decisión (Regresión)\n",
        "analizando los parámetros máximo profundidad, número mínimo de observaciones,\n",
        "número mínimo de observaciones por separación y criterio de separación. Graficar el\n",
        "árbol obtenido en el proceso de entrenamiento y mostrar los resultados sobre dos\n",
        "conjuntos de test (Error Absoluto Medio, Error Cuadrático Medio y Raíz del Error\n",
        "Cuadrático Medio)\n",
        "\n",
        "---"
      ],
      "metadata": {
        "id": "MVHV33SgE0Ab"
      }
    },
    {
      "cell_type": "markdown",
      "source": [
        "### Section"
      ],
      "metadata": {
        "id": "QZfuoldaE0Ac"
      }
    },
    {
      "cell_type": "markdown",
      "source": [],
      "metadata": {
        "id": "0wuE9-0hE0Ac"
      }
    },
    {
      "cell_type": "code",
      "source": [],
      "metadata": {
        "id": "KfmFomrKE0Ac"
      },
      "execution_count": null,
      "outputs": []
    },
    {
      "cell_type": "markdown",
      "source": [
        "### Section"
      ],
      "metadata": {
        "id": "Kji2JhkQE0Ac"
      }
    },
    {
      "cell_type": "markdown",
      "source": [],
      "metadata": {
        "id": "xMECZCJ-E0Ac"
      }
    },
    {
      "cell_type": "code",
      "source": [],
      "metadata": {
        "id": "uwfP813OE0Ad"
      },
      "execution_count": null,
      "outputs": []
    },
    {
      "cell_type": "markdown",
      "source": [
        "## **Tercer ejercicio**"
      ],
      "metadata": {
        "id": "NxtrgdTNE_91"
      }
    },
    {
      "cell_type": "markdown",
      "source": [
        "---\n",
        "\n",
        "Descargar el conjunto de datos, PokemonDB.csv2, para realizar el trabajo práctico.\n",
        "Analizar los atributos del conjunto de datos (distribuciones, valores, outliers, tipos de\n",
        "datos, etc.)\n",
        "\n",
        "---"
      ],
      "metadata": {
        "id": "mkg4v3YuE_92"
      }
    },
    {
      "cell_type": "markdown",
      "source": [
        "### Section"
      ],
      "metadata": {
        "id": "NOWqtxlpE_92"
      }
    },
    {
      "cell_type": "markdown",
      "source": [],
      "metadata": {
        "id": "MqSDDhvcE_92"
      }
    },
    {
      "cell_type": "code",
      "source": [],
      "metadata": {
        "id": "nt4lzXLmE_93"
      },
      "execution_count": null,
      "outputs": []
    },
    {
      "cell_type": "markdown",
      "source": [
        "### Section"
      ],
      "metadata": {
        "id": "hXD1tqIuE_93"
      }
    },
    {
      "cell_type": "markdown",
      "source": [],
      "metadata": {
        "id": "5Kzy6keFE_93"
      }
    },
    {
      "cell_type": "code",
      "source": [],
      "metadata": {
        "id": "BCU9hoWEE_93"
      },
      "execution_count": null,
      "outputs": []
    },
    {
      "cell_type": "markdown",
      "source": [
        "## **Cuarto ejercicio**"
      ],
      "metadata": {
        "id": "bslbQA8IFITs"
      }
    },
    {
      "cell_type": "markdown",
      "source": [
        "---\n",
        "\n",
        "Realizar la estimación del atributo Type utilizando árboles de decisión (Clasificación)\n",
        "analizando los parámetros máximo profundidad, número mínimo de observaciones,\n",
        "número mínimo de observaciones por separación y criterio de separación. Graficar el\n",
        "árbol obtenido en el proceso de entrenamiento y mostrar los resultados sobre dos\n",
        "conjuntos de test (Precisión, Exhaustividad y Exactitud).\n",
        "\n",
        "---"
      ],
      "metadata": {
        "id": "s-Df0VrBFITs"
      }
    },
    {
      "cell_type": "markdown",
      "source": [
        "### Section"
      ],
      "metadata": {
        "id": "D_f2n8ZvFITt"
      }
    },
    {
      "cell_type": "markdown",
      "source": [],
      "metadata": {
        "id": "Qm5BVBA8FIT4"
      }
    },
    {
      "cell_type": "code",
      "source": [],
      "metadata": {
        "id": "wRZCx3eKFIT4"
      },
      "execution_count": null,
      "outputs": []
    },
    {
      "cell_type": "markdown",
      "source": [
        "### Section"
      ],
      "metadata": {
        "id": "yS_-W2caFIT5"
      }
    },
    {
      "cell_type": "markdown",
      "source": [],
      "metadata": {
        "id": "AtulUsp4FIT5"
      }
    },
    {
      "cell_type": "code",
      "source": [],
      "metadata": {
        "id": "KzdkI30uFIT5"
      },
      "execution_count": null,
      "outputs": []
    },
    {
      "cell_type": "markdown",
      "source": [
        "## **Quinto ejercicio**"
      ],
      "metadata": {
        "id": "Yi8pq-XuFeGg"
      }
    },
    {
      "cell_type": "markdown",
      "source": [
        "---\n",
        "\n",
        "Realizar la estimación del atributo Type utilizando Bayes Ingenuo. Aquí deberá\n",
        "considerar un criterio de división de los atributos para discretizarlos. Mostrar los\n",
        "resultados sobre dos conjuntos de test (Precisión, Exhaustividad y Exactitud).\n",
        "\n",
        "---"
      ],
      "metadata": {
        "id": "c2DBa82aFeGp"
      }
    },
    {
      "cell_type": "markdown",
      "source": [
        "### Section"
      ],
      "metadata": {
        "id": "8jcEae2vFeGp"
      }
    },
    {
      "cell_type": "markdown",
      "source": [],
      "metadata": {
        "id": "QS_I1_oAFeGp"
      }
    },
    {
      "cell_type": "code",
      "source": [],
      "metadata": {
        "id": "SHgx8IHvFeGq"
      },
      "execution_count": null,
      "outputs": []
    },
    {
      "cell_type": "markdown",
      "source": [
        "### Section"
      ],
      "metadata": {
        "id": "q8h3o30-FeGq"
      }
    },
    {
      "cell_type": "markdown",
      "source": [],
      "metadata": {
        "id": "mkWUNHeJFeGq"
      }
    },
    {
      "cell_type": "code",
      "source": [],
      "metadata": {
        "id": "Lhk8bf4mFeGq"
      },
      "execution_count": null,
      "outputs": []
    },
    {
      "cell_type": "markdown",
      "source": [
        "## **Sexto ejercicio**"
      ],
      "metadata": {
        "id": "j6NkAE8RFnd1"
      }
    },
    {
      "cell_type": "markdown",
      "source": [
        "---\n",
        "\n",
        "Realizar la estimación del atributo Type utilizando k-NN analizando los parámetros\n",
        "cantidad de vecinos, métrica y valor de p. Mostrar los resultados sobre un conjunto de\n",
        "test (Precisión, Exhaustividad y Exactitud)\n",
        "\n",
        "---"
      ],
      "metadata": {
        "id": "jxIig5SRFnd9"
      }
    },
    {
      "cell_type": "markdown",
      "source": [
        "### Section"
      ],
      "metadata": {
        "id": "XegktToAFnd9"
      }
    },
    {
      "cell_type": "markdown",
      "source": [],
      "metadata": {
        "id": "6OxBNBG1Fnd9"
      }
    },
    {
      "cell_type": "code",
      "source": [],
      "metadata": {
        "id": "YyPeoqgtFnd9"
      },
      "execution_count": null,
      "outputs": []
    },
    {
      "cell_type": "markdown",
      "source": [
        "### Section"
      ],
      "metadata": {
        "id": "BqThWSyHFnd9"
      }
    },
    {
      "cell_type": "markdown",
      "source": [],
      "metadata": {
        "id": "GrxBlh0ZFnd-"
      }
    },
    {
      "cell_type": "code",
      "source": [],
      "metadata": {
        "id": "vvLjR0fDFnd-"
      },
      "execution_count": null,
      "outputs": []
    },
    {
      "cell_type": "markdown",
      "source": [
        "# ***Conclusiones***"
      ],
      "metadata": {
        "id": "s8tt71MIF4r5"
      }
    },
    {
      "cell_type": "markdown",
      "source": [],
      "metadata": {
        "id": "TMAlM4bVF-1z"
      }
    }
  ]
}